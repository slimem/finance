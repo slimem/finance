{
  "nbformat": 4,
  "nbformat_minor": 0,
  "metadata": {
    "colab": {
      "name": "stock_predict_1.ipynb",
      "provenance": []
    },
    "kernelspec": {
      "name": "python3",
      "display_name": "Python 3"
    }
  },
  "cells": [
    {
      "cell_type": "code",
      "metadata": {
        "id": "Vq1Lu8g_ipBL"
      },
      "source": [
        "import numpy as np\r\n",
        "import matplotlib.pyplot as plt\r\n",
        "import pandas as pd\r\n",
        "import pandas_datareader as data_reader\r\n",
        "import datetime as dt\r\n",
        "\r\n",
        "from sklearn.preprocessing import MinMaxScaler\r\n",
        "from tensorflow.keras.models import Sequential\r\n",
        "from tensorflow.keras.layers import Dense, Dropout, LSTM"
      ],
      "execution_count": 2,
      "outputs": []
    },
    {
      "cell_type": "code",
      "metadata": {
        "colab": {
          "base_uri": "https://localhost:8080/",
          "height": 235
        },
        "id": "1Z5h375sjI_5",
        "outputId": "22c0d746-fdf8-4cf0-8efc-e6f7c332cfd0"
      },
      "source": [
        "company = \"FB\"\r\n",
        "\r\n",
        "start = dt.datetime(2012,1,1)\r\n",
        "end = dt.datetime(2020,1,1)\r\n",
        "\r\n",
        "data = data_reader.DataReader(company, 'yahoo', start, end)\r\n",
        "\r\n",
        "data.head()\r\n",
        "#data.info()"
      ],
      "execution_count": 3,
      "outputs": [
        {
          "output_type": "execute_result",
          "data": {
            "text/html": [
              "<div>\n",
              "<style scoped>\n",
              "    .dataframe tbody tr th:only-of-type {\n",
              "        vertical-align: middle;\n",
              "    }\n",
              "\n",
              "    .dataframe tbody tr th {\n",
              "        vertical-align: top;\n",
              "    }\n",
              "\n",
              "    .dataframe thead th {\n",
              "        text-align: right;\n",
              "    }\n",
              "</style>\n",
              "<table border=\"1\" class=\"dataframe\">\n",
              "  <thead>\n",
              "    <tr style=\"text-align: right;\">\n",
              "      <th></th>\n",
              "      <th>High</th>\n",
              "      <th>Low</th>\n",
              "      <th>Open</th>\n",
              "      <th>Close</th>\n",
              "      <th>Volume</th>\n",
              "      <th>Adj Close</th>\n",
              "    </tr>\n",
              "    <tr>\n",
              "      <th>Date</th>\n",
              "      <th></th>\n",
              "      <th></th>\n",
              "      <th></th>\n",
              "      <th></th>\n",
              "      <th></th>\n",
              "      <th></th>\n",
              "    </tr>\n",
              "  </thead>\n",
              "  <tbody>\n",
              "    <tr>\n",
              "      <th>2012-05-18</th>\n",
              "      <td>45.000000</td>\n",
              "      <td>38.000000</td>\n",
              "      <td>42.049999</td>\n",
              "      <td>38.230000</td>\n",
              "      <td>573576400</td>\n",
              "      <td>38.230000</td>\n",
              "    </tr>\n",
              "    <tr>\n",
              "      <th>2012-05-21</th>\n",
              "      <td>36.660000</td>\n",
              "      <td>33.000000</td>\n",
              "      <td>36.529999</td>\n",
              "      <td>34.029999</td>\n",
              "      <td>168192700</td>\n",
              "      <td>34.029999</td>\n",
              "    </tr>\n",
              "    <tr>\n",
              "      <th>2012-05-22</th>\n",
              "      <td>33.590000</td>\n",
              "      <td>30.940001</td>\n",
              "      <td>32.610001</td>\n",
              "      <td>31.000000</td>\n",
              "      <td>101786600</td>\n",
              "      <td>31.000000</td>\n",
              "    </tr>\n",
              "    <tr>\n",
              "      <th>2012-05-23</th>\n",
              "      <td>32.500000</td>\n",
              "      <td>31.360001</td>\n",
              "      <td>31.370001</td>\n",
              "      <td>32.000000</td>\n",
              "      <td>73600000</td>\n",
              "      <td>32.000000</td>\n",
              "    </tr>\n",
              "    <tr>\n",
              "      <th>2012-05-24</th>\n",
              "      <td>33.209999</td>\n",
              "      <td>31.770000</td>\n",
              "      <td>32.950001</td>\n",
              "      <td>33.029999</td>\n",
              "      <td>50237200</td>\n",
              "      <td>33.029999</td>\n",
              "    </tr>\n",
              "  </tbody>\n",
              "</table>\n",
              "</div>"
            ],
            "text/plain": [
              "                 High        Low       Open      Close     Volume  Adj Close\n",
              "Date                                                                        \n",
              "2012-05-18  45.000000  38.000000  42.049999  38.230000  573576400  38.230000\n",
              "2012-05-21  36.660000  33.000000  36.529999  34.029999  168192700  34.029999\n",
              "2012-05-22  33.590000  30.940001  32.610001  31.000000  101786600  31.000000\n",
              "2012-05-23  32.500000  31.360001  31.370001  32.000000   73600000  32.000000\n",
              "2012-05-24  33.209999  31.770000  32.950001  33.029999   50237200  33.029999"
            ]
          },
          "metadata": {
            "tags": []
          },
          "execution_count": 3
        }
      ]
    },
    {
      "cell_type": "code",
      "metadata": {
        "colab": {
          "base_uri": "https://localhost:8080/"
        },
        "id": "HPiC_U8EkZYR",
        "outputId": "84d896ce-e6bb-43bc-d988-85ddd207987f"
      },
      "source": [
        "scaler = MinMaxScaler(feature_range = (0,1))\r\n",
        "scaled_data = scaler.fit_transform(data['Close'].values.reshape(-1,1))\r\n",
        "\r\n",
        "print (scaled_data)"
      ],
      "execution_count": 4,
      "outputs": [
        {
          "output_type": "stream",
          "text": [
            "[[0.10261801]\n",
            " [0.08159383]\n",
            " [0.06642639]\n",
            " ...\n",
            " [0.95294592]\n",
            " [0.93447466]\n",
            " [0.93867948]]\n"
          ],
          "name": "stdout"
        }
      ]
    },
    {
      "cell_type": "code",
      "metadata": {
        "colab": {
          "base_uri": "https://localhost:8080/"
        },
        "id": "WG03PS2mlV05",
        "outputId": "923a926b-97a4-425a-82ab-ed49da6b802e"
      },
      "source": [
        "prediction_days = 60\r\n",
        "\r\n",
        "x_train = []\r\n",
        "y_train = []\r\n",
        "\r\n",
        "for x in range(prediction_days, len(scaled_data)):\r\n",
        "  x_train.append(scaled_data[x-prediction_days:x, 0])\r\n",
        "  y_train.append(scaled_data[x, 0])\r\n",
        "\r\n",
        "x_train, y_train = np.array(x_train), np.array(y_train)\r\n",
        "x_train = np.reshape(x_train, (x_train.shape[0], x_train.shape[1], 1))\r\n",
        "\r\n",
        "print(x_train.shape)"
      ],
      "execution_count": 5,
      "outputs": [
        {
          "output_type": "stream",
          "text": [
            "(1857, 60, 1)\n"
          ],
          "name": "stdout"
        }
      ]
    },
    {
      "cell_type": "code",
      "metadata": {
        "colab": {
          "base_uri": "https://localhost:8080/"
        },
        "id": "mS-_hfT-nP1e",
        "outputId": "6c35627d-6df0-4cea-f18c-746d81ddd9c1"
      },
      "source": [
        "model = Sequential()\r\n",
        "\r\n",
        "model.add(LSTM(units=50, return_sequences=True, input_shape = (x_train.shape[1],1)))\r\n",
        "model.add(Dropout(0.2))\r\n",
        "model.add(LSTM(units=50, return_sequences=True))\r\n",
        "model.add(Dropout(0.2))\r\n",
        "model.add(LSTM(units=50))\r\n",
        "model.add(Dropout(0.2))\r\n",
        "#prediction of the next closing value\r\n",
        "model.add(Dense(units=1))\r\n",
        "\r\n",
        "model.compile(optimizer='adam', loss='mean_squared_error')\r\n",
        "model.fit(x_train, y_train, epochs=25, batch_size=32)"
      ],
      "execution_count": 6,
      "outputs": [
        {
          "output_type": "stream",
          "text": [
            "Epoch 1/25\n",
            "59/59 [==============================] - 11s 88ms/step - loss: 0.0690\n",
            "Epoch 2/25\n",
            "59/59 [==============================] - 5s 92ms/step - loss: 0.0049\n",
            "Epoch 3/25\n",
            "59/59 [==============================] - 5s 93ms/step - loss: 0.0041\n",
            "Epoch 4/25\n",
            "59/59 [==============================] - 5s 92ms/step - loss: 0.0045\n",
            "Epoch 5/25\n",
            "59/59 [==============================] - 5s 92ms/step - loss: 0.0034\n",
            "Epoch 6/25\n",
            "59/59 [==============================] - 6s 93ms/step - loss: 0.0028\n",
            "Epoch 7/25\n",
            "59/59 [==============================] - 6s 94ms/step - loss: 0.0032\n",
            "Epoch 8/25\n",
            "59/59 [==============================] - 5s 92ms/step - loss: 0.0031\n",
            "Epoch 9/25\n",
            "59/59 [==============================] - 6s 94ms/step - loss: 0.0027\n",
            "Epoch 10/25\n",
            "59/59 [==============================] - 6s 94ms/step - loss: 0.0037\n",
            "Epoch 11/25\n",
            "59/59 [==============================] - 5s 92ms/step - loss: 0.0026\n",
            "Epoch 12/25\n",
            "59/59 [==============================] - 6s 93ms/step - loss: 0.0028\n",
            "Epoch 13/25\n",
            "59/59 [==============================] - 6s 95ms/step - loss: 0.0024\n",
            "Epoch 14/25\n",
            "59/59 [==============================] - 6s 95ms/step - loss: 0.0036\n",
            "Epoch 15/25\n",
            "59/59 [==============================] - 6s 95ms/step - loss: 0.0024\n",
            "Epoch 16/25\n",
            "59/59 [==============================] - 6s 93ms/step - loss: 0.0025\n",
            "Epoch 17/25\n",
            "59/59 [==============================] - 6s 96ms/step - loss: 0.0024\n",
            "Epoch 18/25\n",
            "59/59 [==============================] - 6s 95ms/step - loss: 0.0025\n",
            "Epoch 19/25\n",
            "59/59 [==============================] - 5s 93ms/step - loss: 0.0025\n",
            "Epoch 20/25\n",
            "59/59 [==============================] - 6s 94ms/step - loss: 0.0024\n",
            "Epoch 21/25\n",
            "59/59 [==============================] - 5s 91ms/step - loss: 0.0020\n",
            "Epoch 22/25\n",
            "59/59 [==============================] - 6s 93ms/step - loss: 0.0019\n",
            "Epoch 23/25\n",
            "59/59 [==============================] - 6s 94ms/step - loss: 0.0024\n",
            "Epoch 24/25\n",
            "59/59 [==============================] - 6s 93ms/step - loss: 0.0022\n",
            "Epoch 25/25\n",
            "59/59 [==============================] - 5s 92ms/step - loss: 0.0050\n"
          ],
          "name": "stdout"
        },
        {
          "output_type": "execute_result",
          "data": {
            "text/plain": [
              "<tensorflow.python.keras.callbacks.History at 0x7f8e5ac18210>"
            ]
          },
          "metadata": {
            "tags": []
          },
          "execution_count": 6
        }
      ]
    },
    {
      "cell_type": "code",
      "metadata": {
        "id": "V2V0xf15s4LY"
      },
      "source": [
        "#Load test data\r\n",
        "\r\n",
        "test_start = dt.datetime(2020,1,1)\r\n",
        "test_end = dt.datetime.now()\r\n",
        "\r\n",
        "test_data = data_reader.DataReader(company, \"yahoo\", test_start, test_end)\r\n",
        "actual_prices = test_data['Close'].values\r\n",
        "\r\n",
        "total_dataset = pd.concat((data['Close'], test_data['Close']), axis=0)\r\n",
        "\r\n",
        "model_inputs = total_dataset[len(total_dataset) -len(test_data) - prediction_days:].values\r\n",
        "model_inputs = model_inputs.reshape(-1,1)\r\n",
        "model_inputs = scaler.transform(model_inputs)\r\n",
        "\r\n",
        "# Make predictions on test Data\r\n",
        "\r\n",
        "x_test = []\r\n",
        "\r\n",
        "for x in range(prediction_days, len(model_inputs)):\r\n",
        "  x_test.append(model_inputs[x-prediction_days:x, 0])\r\n",
        "\r\n",
        "x_test = np.array(x_test)\r\n",
        "x_test = np.reshape(x_test, (x_test.shape[0], x_test.shape[1], 1))\r\n",
        "\r\n",
        "predicted_prices = model.predict(x_test)\r\n",
        "predicted_prices = scaler.inverse_transform(predicted_prices)\r\n"
      ],
      "execution_count": 15,
      "outputs": []
    },
    {
      "cell_type": "code",
      "metadata": {
        "colab": {
          "base_uri": "https://localhost:8080/",
          "height": 295
        },
        "id": "lSs3oj6t2lmv",
        "outputId": "9dd87431-cb08-41e6-85dc-7f9fae62a632"
      },
      "source": [
        "# Plot the test predictions\r\n",
        "\r\n",
        "plt.plot(actual_prices, color=\"black\", label=f\"Actual {company} Price\")\r\n",
        "plt.plot(predicted_prices, color=\"green\", label=f\"Preducted {company} Price\")\r\n",
        "plt.title(f\"{company} Share Price\")\r\n",
        "plt.xlabel(\"Time\")\r\n",
        "plt.ylabel(f\"{company} Share Price\")\r\n",
        "plt.legend()\r\n",
        "plt.show()"
      ],
      "execution_count": 16,
      "outputs": [
        {
          "output_type": "display_data",
          "data": {
            "image/png": "[encoded data removed]",
            "text/plain": [
              "<Figure size 432x288 with 1 Axes>"
            ]
          },
          "metadata": {
            "tags": [],
            "needs_background": "light"
          }
        }
      ]
    },
    {
      "cell_type": "code",
      "metadata": {
        "colab": {
          "base_uri": "https://localhost:8080/"
        },
        "id": "_HJ_JcSr6C09",
        "outputId": "c891127b-979d-493c-959b-384e341f4930"
      },
      "source": [
        "# Predict Next Days\r\n",
        "\r\n",
        "real_data = [model_inputs[len(model_inputs) + 1 - prediction_days:len(model_inputs+1), 0]]\r\n",
        "real_data = np.array(real_data)\r\n",
        "real_data = np.reshape(real_data, (real_data.shape[0], real_data.shape[1],1))\r\n",
        "\r\n",
        "prediction = model.predict(real_data)\r\n",
        "prediction = scaler.inverse_transform(prediction)\r\n",
        "print(f\"Prediction: {prediction}\")"
      ],
      "execution_count": 18,
      "outputs": [
        {
          "output_type": "stream",
          "text": [
            "Prediction: [[249.74225]]\n"
          ],
          "name": "stdout"
        }
      ]
    }
  ]
}