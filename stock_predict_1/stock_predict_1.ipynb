{
  "nbformat": 4,
  "nbformat_minor": 0,
  "metadata": {
    "colab": {
      "name": "stock_predict_1.ipynb",
      "provenance": []
    },
    "kernelspec": {
      "name": "python3",
      "display_name": "Python 3"
    }
  },
  "cells": [
    {
      "cell_type": "code",
      "metadata": {
        "id": "Vq1Lu8g_ipBL"
      },
      "source": [
        "import numpy as np\r\n",
        "import matplotlib.pyplot as plt\r\n",
        "import pandas as pd\r\n",
        "import pandas_datareader as data_reader\r\n",
        "import datetime as dt\r\n",
        "\r\n",
        "from sklearn.preprocessing import MinMaxScaler\r\n",
        "from tensorflow.keras.models import Sequential\r\n",
        "from tensorflow.keras.layers import Dense, Dropout, LSTM"
      ],
      "execution_count": 1,
      "outputs": []
    },
    {
      "cell_type": "code",
      "metadata": {
        "colab": {
          "base_uri": "https://localhost:8080/",
          "height": 235
        },
        "id": "1Z5h375sjI_5",
        "outputId": "97e6d75c-e239-4420-e98e-5210566e5773"
      },
      "source": [
        "company = \"FB\"\r\n",
        "\r\n",
        "start = dt.datetime(2012,1,1)\r\n",
        "end = dt.datetime(2020,1,1)\r\n",
        "\r\n",
        "data = data_reader.DataReader(company, 'yahoo', start, end)\r\n",
        "\r\n",
        "data.head()\r\n",
        "#data.info()"
      ],
      "execution_count": 8,
      "outputs": [
        {
          "output_type": "execute_result",
          "data": {
            "text/html": [
              "<div>\n",
              "<style scoped>\n",
              "    .dataframe tbody tr th:only-of-type {\n",
              "        vertical-align: middle;\n",
              "    }\n",
              "\n",
              "    .dataframe tbody tr th {\n",
              "        vertical-align: top;\n",
              "    }\n",
              "\n",
              "    .dataframe thead th {\n",
              "        text-align: right;\n",
              "    }\n",
              "</style>\n",
              "<table border=\"1\" class=\"dataframe\">\n",
              "  <thead>\n",
              "    <tr style=\"text-align: right;\">\n",
              "      <th></th>\n",
              "      <th>High</th>\n",
              "      <th>Low</th>\n",
              "      <th>Open</th>\n",
              "      <th>Close</th>\n",
              "      <th>Volume</th>\n",
              "      <th>Adj Close</th>\n",
              "    </tr>\n",
              "    <tr>\n",
              "      <th>Date</th>\n",
              "      <th></th>\n",
              "      <th></th>\n",
              "      <th></th>\n",
              "      <th></th>\n",
              "      <th></th>\n",
              "      <th></th>\n",
              "    </tr>\n",
              "  </thead>\n",
              "  <tbody>\n",
              "    <tr>\n",
              "      <th>2012-05-18</th>\n",
              "      <td>45.000000</td>\n",
              "      <td>38.000000</td>\n",
              "      <td>42.049999</td>\n",
              "      <td>38.230000</td>\n",
              "      <td>573576400</td>\n",
              "      <td>38.230000</td>\n",
              "    </tr>\n",
              "    <tr>\n",
              "      <th>2012-05-21</th>\n",
              "      <td>36.660000</td>\n",
              "      <td>33.000000</td>\n",
              "      <td>36.529999</td>\n",
              "      <td>34.029999</td>\n",
              "      <td>168192700</td>\n",
              "      <td>34.029999</td>\n",
              "    </tr>\n",
              "    <tr>\n",
              "      <th>2012-05-22</th>\n",
              "      <td>33.590000</td>\n",
              "      <td>30.940001</td>\n",
              "      <td>32.610001</td>\n",
              "      <td>31.000000</td>\n",
              "      <td>101786600</td>\n",
              "      <td>31.000000</td>\n",
              "    </tr>\n",
              "    <tr>\n",
              "      <th>2012-05-23</th>\n",
              "      <td>32.500000</td>\n",
              "      <td>31.360001</td>\n",
              "      <td>31.370001</td>\n",
              "      <td>32.000000</td>\n",
              "      <td>73600000</td>\n",
              "      <td>32.000000</td>\n",
              "    </tr>\n",
              "    <tr>\n",
              "      <th>2012-05-24</th>\n",
              "      <td>33.209999</td>\n",
              "      <td>31.770000</td>\n",
              "      <td>32.950001</td>\n",
              "      <td>33.029999</td>\n",
              "      <td>50237200</td>\n",
              "      <td>33.029999</td>\n",
              "    </tr>\n",
              "  </tbody>\n",
              "</table>\n",
              "</div>"
            ],
            "text/plain": [
              "                 High        Low       Open      Close     Volume  Adj Close\n",
              "Date                                                                        \n",
              "2012-05-18  45.000000  38.000000  42.049999  38.230000  573576400  38.230000\n",
              "2012-05-21  36.660000  33.000000  36.529999  34.029999  168192700  34.029999\n",
              "2012-05-22  33.590000  30.940001  32.610001  31.000000  101786600  31.000000\n",
              "2012-05-23  32.500000  31.360001  31.370001  32.000000   73600000  32.000000\n",
              "2012-05-24  33.209999  31.770000  32.950001  33.029999   50237200  33.029999"
            ]
          },
          "metadata": {
            "tags": []
          },
          "execution_count": 8
        }
      ]
    },
    {
      "cell_type": "code",
      "metadata": {
        "colab": {
          "base_uri": "https://localhost:8080/"
        },
        "id": "HPiC_U8EkZYR",
        "outputId": "8e6d6fe5-9d29-4dd7-94bf-fab03d077f46"
      },
      "source": [
        "scaler = MinMaxScaler(feature_range = (0,1))\r\n",
        "scaled_data = scaler.fit_transform(data['Close'].values.reshape(-1,1))\r\n",
        "\r\n",
        "print (scaled_data)"
      ],
      "execution_count": 13,
      "outputs": [
        {
          "output_type": "stream",
          "text": [
            "[[0.10261801]\n",
            " [0.08159383]\n",
            " [0.06642639]\n",
            " ...\n",
            " [0.95294592]\n",
            " [0.93447466]\n",
            " [0.93867948]]\n"
          ],
          "name": "stdout"
        }
      ]
    },
    {
      "cell_type": "code",
      "metadata": {
        "colab": {
          "base_uri": "https://localhost:8080/"
        },
        "id": "WG03PS2mlV05",
        "outputId": "10a276fc-88ac-4fa7-ca0c-f61b0f6cef28"
      },
      "source": [
        "prediction_days = 60\r\n",
        "\r\n",
        "x_train = []\r\n",
        "y_train = []\r\n",
        "\r\n",
        "for x in range(prediction_days, len(scaled_data)):\r\n",
        "  x_train.append(scaled_data[x-prediction_days:x, 0])\r\n",
        "  y_train.append(scaled_data[x, 0])\r\n",
        "\r\n",
        "x_train, y_train = np.array(x_train), np.array(y_train)\r\n",
        "x_train = np.reshape(x_train, (x_train.shape[0], x_train.shape[1], 1))\r\n",
        "\r\n",
        "print(x_train.shape)"
      ],
      "execution_count": 24,
      "outputs": [
        {
          "output_type": "stream",
          "text": [
            "(1857, 60, 1)\n"
          ],
          "name": "stdout"
        }
      ]
    },
    {
      "cell_type": "code",
      "metadata": {
        "colab": {
          "base_uri": "https://localhost:8080/"
        },
        "id": "mS-_hfT-nP1e",
        "outputId": "28c2601f-ea45-46df-a9d7-006d3db2d31c"
      },
      "source": [
        "model = Sequential()\r\n",
        "\r\n",
        "model.add(LSTM(units=50, return_sequences=True, input_shape = (x_train.shape[1],1)))\r\n",
        "model.add(Dropout(0.2))\r\n",
        "model.add(LSTM(units=50, return_sequences=True))\r\n",
        "model.add(Dropout(0.2))\r\n",
        "model.add(LSTM(units=50))\r\n",
        "model.add(Dropout(0.2))\r\n",
        "#prediction of the next closing value\r\n",
        "model.add(Dense(units=1))\r\n",
        "\r\n",
        "model.compile(optimizer='adam', loss='mean_squared_error')\r\n",
        "model.fit(x_train, y_train, epochs=25, batch_size=32)"
      ],
      "execution_count": 25,
      "outputs": [
        {
          "output_type": "stream",
          "text": [
            "Epoch 1/25\n",
            "59/59 [==============================] - 10s 86ms/step - loss: 0.0794\n",
            "Epoch 2/25\n",
            "59/59 [==============================] - 6s 96ms/step - loss: 0.0049\n",
            "Epoch 3/25\n",
            "59/59 [==============================] - 6s 94ms/step - loss: 0.0037\n",
            "Epoch 4/25\n",
            "59/59 [==============================] - 6s 96ms/step - loss: 0.0037\n",
            "Epoch 5/25\n",
            "59/59 [==============================] - 6s 96ms/step - loss: 0.0065\n",
            "Epoch 6/25\n",
            "59/59 [==============================] - 6s 96ms/step - loss: 0.0040\n",
            "Epoch 7/25\n",
            "59/59 [==============================] - 6s 96ms/step - loss: 0.0102\n",
            "Epoch 8/25\n",
            "59/59 [==============================] - 6s 95ms/step - loss: 0.0031\n",
            "Epoch 9/25\n",
            "59/59 [==============================] - 6s 97ms/step - loss: 0.0027\n",
            "Epoch 10/25\n",
            "59/59 [==============================] - 6s 96ms/step - loss: 0.0037\n",
            "Epoch 11/25\n",
            "59/59 [==============================] - 6s 100ms/step - loss: 0.0029\n",
            "Epoch 12/25\n",
            "59/59 [==============================] - 6s 98ms/step - loss: 0.0029\n",
            "Epoch 13/25\n",
            "59/59 [==============================] - 6s 98ms/step - loss: 0.0028\n",
            "Epoch 14/25\n",
            "59/59 [==============================] - 6s 95ms/step - loss: 0.0051\n",
            "Epoch 15/25\n",
            "59/59 [==============================] - 6s 96ms/step - loss: 0.0050\n",
            "Epoch 16/25\n",
            "59/59 [==============================] - 6s 97ms/step - loss: 0.0026\n",
            "Epoch 17/25\n",
            "59/59 [==============================] - 6s 95ms/step - loss: 0.0027\n",
            "Epoch 18/25\n",
            "59/59 [==============================] - 6s 98ms/step - loss: 0.0028\n",
            "Epoch 19/25\n",
            "59/59 [==============================] - 6s 96ms/step - loss: 0.0019\n",
            "Epoch 20/25\n",
            "59/59 [==============================] - 6s 98ms/step - loss: 0.0024\n",
            "Epoch 21/25\n",
            "59/59 [==============================] - 6s 95ms/step - loss: 0.0024\n",
            "Epoch 22/25\n",
            "59/59 [==============================] - 6s 96ms/step - loss: 0.0022\n",
            "Epoch 23/25\n",
            "59/59 [==============================] - 6s 96ms/step - loss: 0.0019\n",
            "Epoch 24/25\n",
            "59/59 [==============================] - 6s 96ms/step - loss: 0.0021\n",
            "Epoch 25/25\n",
            "59/59 [==============================] - 6s 96ms/step - loss: 0.0023\n"
          ],
          "name": "stdout"
        },
        {
          "output_type": "execute_result",
          "data": {
            "text/plain": [
              "<tensorflow.python.keras.callbacks.History at 0x7f28a9465910>"
            ]
          },
          "metadata": {
            "tags": []
          },
          "execution_count": 25
        }
      ]
    }
  ]
}